{
 "cells": [
  {
   "attachments": {},
   "cell_type": "markdown",
   "metadata": {},
   "source": [
    "# WeatherAPI (WeatherAPI, hiding API keys)\n",
    "\n",
    "Answer the following questions using [WeatherAPI](http://www.weatherapi.com/). It's a smaller assignment than the last weather one, and mostly serves to get you used to creating API urls and using `python-dotenv`.\n",
    "\n",
    "Hold `Shift` and hit `Enter` to run a cell, and use the `+` on the top left to add a new cell to a notebook. Be sure to take advantage of both the documentation and the API Explorer!\n",
    "\n",
    "## 0) Import any libraries you might need\n",
    "\n",
    "- *Tip: We're going to be downloading things from the internet, so we probably need `requests`.*\n",
    "- *Tip: Remember you only need to import requests once!*"
   ]
  },
  {
   "cell_type": "code",
   "execution_count": null,
   "metadata": {},
   "outputs": [],
   "source": []
  },
  {
   "cell_type": "code",
   "execution_count": 2,
   "metadata": {
    "collapsed": true
   },
   "outputs": [
    {
     "name": "stdout",
     "output_type": "stream",
     "text": [
      "{'location': {'name': 'New York', 'region': 'New York', 'country': 'United States of America', 'lat': 40.71, 'lon': -74.01, 'tz_id': 'America/New_York', 'localtime_epoch': 1687201653, 'localtime': '2023-06-19 15:07'}, 'current': {'last_updated_epoch': 1687201200, 'last_updated': '2023-06-19 15:00', 'temp_c': 26.1, 'temp_f': 79.0, 'is_day': 1, 'condition': {'text': 'Sunny', 'icon': '//cdn.weatherapi.com/weather/64x64/day/113.png', 'code': 1000}, 'wind_mph': 6.9, 'wind_kph': 11.2, 'wind_degree': 90, 'wind_dir': 'E', 'pressure_mb': 1018.0, 'pressure_in': 30.07, 'precip_mm': 0.0, 'precip_in': 0.0, 'humidity': 45, 'cloud': 0, 'feelslike_c': 26.8, 'feelslike_f': 80.2, 'vis_km': 16.0, 'vis_miles': 9.0, 'uv': 7.0, 'gust_mph': 15.0, 'gust_kph': 24.1}}\n",
      "{'location': {'name': 'Toronto', 'region': 'Ontario', 'country': 'Canada', 'lat': 43.67, 'lon': -79.42, 'tz_id': 'America/Toronto', 'localtime_epoch': 1687201653, 'localtime': '2023-06-19 15:07'}, 'current': {'last_updated_epoch': 1687201200, 'last_updated': '2023-06-19 15:00', 'temp_c': 21.0, 'temp_f': 69.8, 'is_day': 1, 'condition': {'text': 'Sunny', 'icon': '//cdn.weatherapi.com/weather/64x64/day/113.png', 'code': 1000}, 'wind_mph': 17.4, 'wind_kph': 28.1, 'wind_degree': 70, 'wind_dir': 'ENE', 'pressure_mb': 1017.0, 'pressure_in': 30.03, 'precip_mm': 0.0, 'precip_in': 0.0, 'humidity': 69, 'cloud': 0, 'feelslike_c': 21.0, 'feelslike_f': 69.8, 'vis_km': 14.0, 'vis_miles': 8.0, 'uv': 6.0, 'gust_mph': 13.4, 'gust_kph': 21.6}}\n",
      "{'location': {'name': 'London', 'region': 'City of London, Greater London', 'country': 'United Kingdom', 'lat': 51.52, 'lon': -0.11, 'tz_id': 'Europe/London', 'localtime_epoch': 1687201653, 'localtime': '2023-06-19 20:07'}, 'current': {'last_updated_epoch': 1687201200, 'last_updated': '2023-06-19 20:00', 'temp_c': 23.0, 'temp_f': 73.4, 'is_day': 1, 'condition': {'text': 'Partly cloudy', 'icon': '//cdn.weatherapi.com/weather/64x64/day/116.png', 'code': 1003}, 'wind_mph': 10.5, 'wind_kph': 16.9, 'wind_degree': 200, 'wind_dir': 'SSW', 'pressure_mb': 1010.0, 'pressure_in': 29.83, 'precip_mm': 0.0, 'precip_in': 0.0, 'humidity': 50, 'cloud': 25, 'feelslike_c': 24.9, 'feelslike_f': 76.8, 'vis_km': 10.0, 'vis_miles': 6.0, 'uv': 6.0, 'gust_mph': 8.9, 'gust_kph': 14.4}}\n"
     ]
    }
   ],
   "source": [
    "import requests\n",
    "\n",
    "links = \"http://api.weatherapi.com/v1/current.json?key=c9ba677bc0d54c6198b183019231406&q=New York&aqi=no\", \"http://api.weatherapi.com/v1/current.json?key=c9ba677bc0d54c6198b183019231406&q=toronto&aqi=no\", \"http://api.weatherapi.com/v1/current.json?key=c9ba677bc0d54c6198b183019231406&q=london&aqi=no\"\n",
    "for url in links:\n",
    "    response = requests.get(url)\n",
    "    data = response.json()\n",
    "    print(data)\n"
   ]
  },
  {
   "cell_type": "code",
   "execution_count": null,
   "metadata": {},
   "outputs": [],
   "source": []
  },
  {
   "attachments": {},
   "cell_type": "markdown",
   "metadata": {},
   "source": [
    "## 1) Use the `python-dotenv` package to import your WeatherAPI API key\n",
    "\n",
    "We're going to be posting this code on GitHub, so you'll want to hide your API keys! Take a look at [this video](https://www.youtube.com/watch?v=YdgIWTYQ69A) about how to hide API keys from public view while still using them. It involves creating a separate `.env` file (use either VS Code or create it using Jupyter) that includes your API key, then importing it with [python-dotenv](https://github.com/theskumar/python-dotenv).\n",
    "\n",
    "Save this as a variable called `API_KEY`."
   ]
  },
  {
   "cell_type": "code",
   "execution_count": 3,
   "metadata": {},
   "outputs": [
    {
     "name": "stdout",
     "output_type": "stream",
     "text": [
      "URL is http://api.weatherapi.com/v1/current.json?keyc9ba677bc0d54c6198b183019231406&q=New York&aqi=no\n"
     ]
    }
   ],
   "source": [
    "from dotenv import load_dotenv\n",
    "import os\n",
    "\n",
    "load_dotenv()  # take environment variables from .env.\n",
    "\n",
    "API_KEY = os.getenv(\"API_KEY\")\n",
    "\n",
    "url = f\"http://api.weatherapi.com/v1/current.json?key{API_KEY}&q=New York&aqi=no\"\n",
    "print(\"URL is\", url)\n",
    "\n"
   ]
  },
  {
   "cell_type": "code",
   "execution_count": null,
   "metadata": {
    "collapsed": true
   },
   "outputs": [],
   "source": []
  },
  {
   "attachments": {},
   "cell_type": "markdown",
   "metadata": {},
   "source": [
    "## 2) Print the URL for the current forecast in New York City\n",
    "\n",
    "This is really just a test to make sure you can still create a URL when the API key is read in as a variable."
   ]
  },
  {
   "cell_type": "code",
   "execution_count": 4,
   "metadata": {},
   "outputs": [
    {
     "name": "stdout",
     "output_type": "stream",
     "text": [
      "http://api.weatherapi.com/v1/current.json?key{API_KEY}&q=New York&aqi=no\n"
     ]
    }
   ],
   "source": [
    "print(\"http://api.weatherapi.com/v1/current.json?key{API_KEY}&q=New York&aqi=no\")\n",
    "      "
   ]
  },
  {
   "attachments": {},
   "cell_type": "markdown",
   "metadata": {
    "collapsed": true
   },
   "source": [
    "## 2) Compare the air quality for NYC and Toronto, Canada\n",
    "\n",
    "Using PM2.5 measurements, compare the air quality of NYC and Toronto, Canada. If NYC has a higher PM2.5 measurement than Toronto, print \"NYC is worse.\" If Toronto's is higher, print \"Toronto is worse.\"\n",
    "\n",
    "- *Hint: This NYC URL is based on the URL for the current weather of NYC, but is a tiny tiny bit different.*\n",
    "- *Hint: You'll need to add an additional option to the URL to include air quality data*\n",
    "- *Hint: You'll (probably) need multiple variables instead of just using `data` twice*"
   ]
  },
  {
   "cell_type": "code",
   "execution_count": 5,
   "metadata": {},
   "outputs": [
    {
     "name": "stdout",
     "output_type": "stream",
     "text": [
      "NYC is worse.\n"
     ]
    }
   ],
   "source": [
    "url = \"http://api.weatherapi.com/v1/current.json?key=c9ba677bc0d54c6198b183019231406&q=New York&aqi=yes\"\n",
    "response = requests.get(url)\n",
    "nydata = response.json()\n",
    "#print(nydata)\n",
    "\n",
    "nyair = nydata['current']['air_quality']['pm2_5']\n",
    "#print(nyair)\n",
    "\n",
    "url = \"http://api.weatherapi.com/v1/current.json?key=c9ba677bc0d54c6198b183019231406&q=Toronto&aqi=yes\"\n",
    "response = requests.get(url)\n",
    "tordata = response.json()\n",
    "#print(tordata)\n",
    "\n",
    "torair = tordata['current']['air_quality']['pm2_5']\n",
    "#print(torair)\n",
    "\n",
    "if nyair > torair:\n",
    "    print(\"NYC is worse.\")\n",
    "elif nyair < torair:\n",
    "    print(\"Toronto is worse.\")\n",
    "else:\n",
    "    pass\n"
   ]
  },
  {
   "cell_type": "code",
   "execution_count": null,
   "metadata": {},
   "outputs": [],
   "source": []
  },
  {
   "cell_type": "code",
   "execution_count": null,
   "metadata": {},
   "outputs": [],
   "source": []
  },
  {
   "attachments": {},
   "cell_type": "markdown",
   "metadata": {},
   "source": [
    "## 2) Print the time zones for both NYC and Toronto.\n",
    "\n",
    "If they have the same time, print \"it is (the time) in both cities.\" If not, print \"It is (nyc time) in NYC and (Toronto time) in Toronto.\"\n",
    "\n",
    "- *Hint: Both cities should have the same local time. If they don't, what's going on? It's a code issue!*\n",
    "- *Hint: f-strings are unwieldy here, I'd just use the comma version of `print`*"
   ]
  },
  {
   "cell_type": "code",
   "execution_count": 6,
   "metadata": {},
   "outputs": [
    {
     "name": "stdout",
     "output_type": "stream",
     "text": [
      "It is 2023-06-19 15:07 in both cities.\n"
     ]
    }
   ],
   "source": [
    "\n",
    "url = \"http://api.weatherapi.com/v1/timezone.json?key=c9ba677bc0d54c6198b183019231406&q=New York\"\n",
    "response = requests.get(url)\n",
    "data = response.json()\n",
    "#print(data)\n",
    "\n",
    "nyctime = data['location']['localtime']\n",
    "#print(\"NYC time is\", nyctime)\n",
    "\n",
    "url = \"http://api.weatherapi.com/v1/timezone.json?key=c9ba677bc0d54c6198b183019231406&q=Toronto\"\n",
    "response = requests.get(url)\n",
    "data = response.json()\n",
    "#print(data)\n",
    "\n",
    "tortime = data['location']['localtime']\n",
    "#print(\"Toronto time is\", tortime)\n",
    "\n",
    "if nyctime == tortime:\n",
    "    print(\"It is\", nyctime, \"in both cities.\")\n",
    "elif nyctime > tortime:\n",
    "    print(\"It is\", nyctime, \"in NYC and\", tortime, \"in Toronto.\")\n"
   ]
  },
  {
   "attachments": {},
   "cell_type": "markdown",
   "metadata": {},
   "source": [
    "## 3) Speaking of Canada, don't they have a London up there?\n",
    "\n",
    "Print out every city that is called \"London,\" along with the region and country it is in. Your output should look like:\n",
    "\n",
    "```\n",
    "There is a London in United Kingdom\n",
    "There is a London in Canada\n",
    "```\n",
    "\n",
    "Do **not** print out `Londonderry`, since it isn't actually a London.\n",
    "\n",
    "- *Hint: You'll need an `if` for that last part*"
   ]
  },
  {
   "cell_type": "code",
   "execution_count": 12,
   "metadata": {},
   "outputs": [
    {
     "name": "stderr",
     "output_type": "stream",
     "text": [
      "<>:6: SyntaxWarning: list indices must be integers or slices, not tuple; perhaps you missed a comma?\n",
      "<>:6: SyntaxWarning: list indices must be integers or slices, not tuple; perhaps you missed a comma?\n",
      "/var/folders/b9/cydbsq5x5glf23_nw44c9y180000gn/T/ipykernel_13640/905862288.py:6: SyntaxWarning: list indices must be integers or slices, not tuple; perhaps you missed a comma?\n",
      "  LondonUK = [0]['name', 'country']\n",
      "/var/folders/b9/cydbsq5x5glf23_nw44c9y180000gn/T/ipykernel_13640/905862288.py:6: SyntaxWarning: list indices must be integers or slices, not tuple; perhaps you missed a comma?\n",
      "  LondonUK = [0]['name', 'country']\n",
      "/var/folders/b9/cydbsq5x5glf23_nw44c9y180000gn/T/ipykernel_13640/905862288.py:6: SyntaxWarning: list indices must be integers or slices, not tuple; perhaps you missed a comma?\n",
      "  LondonUK = [0]['name', 'country']\n"
     ]
    },
    {
     "ename": "TypeError",
     "evalue": "list indices must be integers or slices, not tuple",
     "output_type": "error",
     "traceback": [
      "\u001b[0;31m---------------------------------------------------------------------------\u001b[0m",
      "\u001b[0;31mTypeError\u001b[0m                                 Traceback (most recent call last)",
      "Cell \u001b[0;32mIn[12], line 6\u001b[0m\n\u001b[1;32m      3\u001b[0m data \u001b[39m=\u001b[39m response\u001b[39m.\u001b[39mjson()\n\u001b[1;32m      4\u001b[0m \u001b[39m#print(data)\u001b[39;00m\n\u001b[0;32m----> 6\u001b[0m LondonUK \u001b[39m=\u001b[39m [\u001b[39m0\u001b[39;49m][\u001b[39m'\u001b[39;49m\u001b[39mname\u001b[39;49m\u001b[39m'\u001b[39;49m, \u001b[39m'\u001b[39;49m\u001b[39mcountry\u001b[39;49m\u001b[39m'\u001b[39;49m]\n\u001b[1;32m      7\u001b[0m \u001b[39mprint\u001b[39m(LondonUK)\n",
      "\u001b[0;31mTypeError\u001b[0m: list indices must be integers or slices, not tuple"
     ]
    }
   ],
   "source": [
    "url = 'http://api.weatherapi.com/v1/forecast.json?key=c9ba677bc0d54c6198b183019231406&q=London&days=1&aqi=no&alerts=no'\n",
    "response = requests.get(url)\n",
    "data = response.json()\n",
    "#print(data)\n",
    "\n",
    "londonUK = [0]\n",
    "\n",
    "for London in data[0][1][2]:\n",
    "    if [country] in data:\n",
    "    print(\"There is a London in United Kingdom\")\n",
    "elif LondonCA in data:\n",
    "    print(\"There is a London in Canada\")\n",
    "else:\n",
    "    pass\n"
   ]
  },
  {
   "cell_type": "code",
   "execution_count": 15,
   "metadata": {},
   "outputs": [],
   "source": [
    "url = \"http://api.weatherapi.com/v1/search.json?key=c9ba677bc0d54c6198b183019231406&q=London\"\n",
    "response = requests.get(url)\n",
    "data = response.json()"
   ]
  },
  {
   "cell_type": "code",
   "execution_count": 21,
   "metadata": {},
   "outputs": [
    {
     "data": {
      "text/plain": [
       "[{'id': 2801268,\n",
       "  'name': 'London',\n",
       "  'region': 'City of London, Greater London',\n",
       "  'country': 'United Kingdom',\n",
       "  'lat': 51.52,\n",
       "  'lon': -0.11,\n",
       "  'url': 'london-city-of-london-greater-london-united-kingdom'},\n",
       " {'id': 315398,\n",
       "  'name': 'London',\n",
       "  'region': 'Ontario',\n",
       "  'country': 'Canada',\n",
       "  'lat': 42.98,\n",
       "  'lon': -81.25,\n",
       "  'url': 'london-ontario-canada'},\n",
       " {'id': 2801275,\n",
       "  'name': 'Londonderry',\n",
       "  'region': 'North Yorkshire',\n",
       "  'country': 'United Kingdom',\n",
       "  'lat': 54.28,\n",
       "  'lon': -1.53,\n",
       "  'url': 'londonderry-north-yorkshire-united-kingdom'}]"
      ]
     },
     "execution_count": 21,
     "metadata": {},
     "output_type": "execute_result"
    }
   ],
   "source": [
    "data"
   ]
  },
  {
   "cell_type": "code",
   "execution_count": 23,
   "metadata": {},
   "outputs": [
    {
     "data": {
      "text/plain": [
       "[{'id': 2801268,\n",
       "  'name': 'London',\n",
       "  'region': 'City of London, Greater London',\n",
       "  'country': 'United Kingdom',\n",
       "  'lat': 51.52,\n",
       "  'lon': -0.11,\n",
       "  'url': 'london-city-of-london-greater-london-united-kingdom'},\n",
       " {'id': 315398,\n",
       "  'name': 'London',\n",
       "  'region': 'Ontario',\n",
       "  'country': 'Canada',\n",
       "  'lat': 42.98,\n",
       "  'lon': -81.25,\n",
       "  'url': 'london-ontario-canada'},\n",
       " {'id': 2801275,\n",
       "  'name': 'Londonderry',\n",
       "  'region': 'North Yorkshire',\n",
       "  'country': 'United Kingdom',\n",
       "  'lat': 54.28,\n",
       "  'lon': -1.53,\n",
       "  'url': 'londonderry-north-yorkshire-united-kingdom'}]"
      ]
     },
     "execution_count": 23,
     "metadata": {},
     "output_type": "execute_result"
    }
   ],
   "source": [
    "londons_list = data\n",
    "\n",
    "londons_list"
   ]
  },
  {
   "cell_type": "code",
   "execution_count": 26,
   "metadata": {},
   "outputs": [
    {
     "name": "stdout",
     "output_type": "stream",
     "text": [
      "There is London in United Kingdom\n",
      "There is London in Canada\n"
     ]
    }
   ],
   "source": [
    "for dict in londons_list:\n",
    "    name = dict[\"name\"] \n",
    "    country = dict[\"country\"]\n",
    "    if name == \"Londonderry\":\n",
    "        pass\n",
    "    else:\n",
    "        print(f\"There is {name} in {country}\")\n",
    "\n",
    "\n",
    "\n",
    "\n",
    "\n"
   ]
  },
  {
   "cell_type": "code",
   "execution_count": null,
   "metadata": {},
   "outputs": [],
   "source": []
  }
 ],
 "metadata": {
  "kernelspec": {
   "display_name": "Python 3 (ipykernel)",
   "language": "python",
   "name": "python3"
  },
  "language_info": {
   "codemirror_mode": {
    "name": "ipython",
    "version": 3
   },
   "file_extension": ".py",
   "mimetype": "text/x-python",
   "name": "python",
   "nbconvert_exporter": "python",
   "pygments_lexer": "ipython3",
   "version": "3.10.11"
  }
 },
 "nbformat": 4,
 "nbformat_minor": 1
}
